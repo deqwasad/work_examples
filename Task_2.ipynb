{
  "nbformat": 4,
  "nbformat_minor": 0,
  "metadata": {
    "colab": {
      "provenance": []
    },
    "kernelspec": {
      "name": "python3",
      "display_name": "Python 3"
    },
    "language_info": {
      "name": "python"
    }
  },
  "cells": [
    {
      "cell_type": "markdown",
      "source": [
        ">**Импортируем начальные данные, немного их подправляем и берем нужное**\n",
        "\n",
        "Исходя из условия задачи, нам нужны только данные для бронирований из Португалии, поэтому выберем только их\n",
        "\n",
        "Также выделим целевые значения, поменяем string-овые значения на численные и зададим для данных тип 'float'\n",
        "\n"
      ],
      "metadata": {
        "id": "WvyODAKR15XS"
      }
    },
    {
      "cell_type": "code",
      "execution_count": null,
      "metadata": {
        "id": "M6PAvT_u1rYp"
      },
      "outputs": [],
      "source": [
        "import pandas as pd\n",
        "\n",
        "table = pd.read_csv('booking.csv', sep=\";\")\n",
        "df = table.loc[table['country'] == 'PRT']\n",
        "target = df['is_canceled']\n",
        "df = df.drop(['is_canceled', 'country'], axis = 1)\n",
        "df = df.replace({'reserved_room_type' : { 'A': 1, 'D' : 2, 'E' : 3, 'G' : 4, 'F': 5, 'C': 6, 'B': 7, 'H': 8, 'L': 9, 'P' : 10},\n",
        "                'customer_type': {'Transient': 1, 'Transient-Party' : 2, 'Contract' : 3, 'Group' : 4},\n",
        "                'deposit_type' : {'No Deposit' : 1, 'Non Refund' : 2, 'Refundable' : 3}})\n",
        "df = df.astype('float')\n",
        "target = target.astype('float')"
      ]
    },
    {
      "cell_type": "markdown",
      "source": [
        "\n",
        "\n",
        ">**Разделим данные на обучающую и тестовую выборки**\n",
        "\n",
        "Делить будем в соотношении 78:22, поскольку именно на таком соотношении удалось добиться наибольшей точности итогового классификатора\n",
        "\n",
        "\n",
        "Также заполним недостающие ячейки и нормируем полученные данные\n"
      ],
      "metadata": {
        "id": "OtU1S-977Bb2"
      }
    },
    {
      "cell_type": "code",
      "source": [
        "from sklearn.model_selection import train_test_split\n",
        "from sklearn.preprocessing import StandardScaler\n",
        "\n",
        "data_train, data_test, target_train, target_test = train_test_split(df, target , test_size=0.22)\n",
        "data_train = data_train.fillna(data_train.mean())\n",
        "data_test = data_test.fillna(data_test.mean())\n",
        "\n",
        "scaler_train = StandardScaler()\n",
        "data_train = scaler_train.fit_transform(data_train)\n",
        "\n",
        "scaler_test = StandardScaler()\n",
        "data_test = scaler_test.fit_transform(data_test)\n"
      ],
      "metadata": {
        "id": "0pibf32f7495"
      },
      "execution_count": null,
      "outputs": []
    },
    {
      "cell_type": "markdown",
      "source": [
        "\n",
        "\n",
        ">**Почему я выбрал модель XGBoost**\n",
        "\n",
        "*   В ходе работы XGBoost продемонстрировал наилучшие показатели в рамках точности классификации среди других моделей, таких как логистическая регрессия, метод опорных векторов и наивный байесовский классификатор\n",
        "*   XGBoost является хорошим вариантом в рамках производительности и оптимизации вычислений  \n",
        "\n",
        "\n",
        "\n"
      ],
      "metadata": {
        "id": "bR5lyQal3ULy"
      }
    },
    {
      "cell_type": "markdown",
      "source": [
        "\n",
        "\n",
        ">**Импортируем XGBoost и применяем его к обучающей и тестовой выборкам**\n",
        "\n"
      ],
      "metadata": {
        "id": "bnjmDtOv9o1U"
      }
    },
    {
      "cell_type": "code",
      "source": [
        "import xgboost as xgb\n",
        "\n",
        "xgb_model = xgb.XGBRegressor(objective=\"reg:linear\", random_state=42)\n",
        "xgb_model.fit(data_train, target_train)\n",
        "target_pred = xgb_model.predict(data_test).round()\n",
        "target_pred"
      ],
      "metadata": {
        "colab": {
          "base_uri": "https://localhost:8080/"
        },
        "id": "LcSAYTAs9Nnz",
        "outputId": "5d47a10d-d320-4bfe-dae8-3307b379dac5"
      },
      "execution_count": null,
      "outputs": [
        {
          "output_type": "stream",
          "name": "stdout",
          "text": [
            "[13:15:27] WARNING: ../src/objective/regression_obj.cu:213: reg:linear is now deprecated in favor of reg:squarederror.\n"
          ]
        },
        {
          "output_type": "execute_result",
          "data": {
            "text/plain": [
              "array([1., 1., 0., ..., 1., 1., 1.], dtype=float32)"
            ]
          },
          "metadata": {},
          "execution_count": 64
        }
      ]
    },
    {
      "cell_type": "markdown",
      "source": [
        "\n",
        "\n",
        ">**Оценим точность полученного классификатора**\n",
        "\n",
        "\n",
        "Построим матрицу ошибок и вычислим точность классификации\n",
        "\n"
      ],
      "metadata": {
        "id": "hoGFuOUk-4L9"
      }
    },
    {
      "cell_type": "code",
      "source": [
        "from sklearn.metrics import confusion_matrix\n",
        "from sklearn import metrics\n",
        "\n",
        "confusion_matrix = confusion_matrix(target_test, target_pred)\n",
        "print('Матрица ошибок:')\n",
        "print(confusion_matrix)\n",
        "print('Точность: {0:0.2f}'. format(metrics.accuracy_score(target_test, target_pred)))"
      ],
      "metadata": {
        "colab": {
          "base_uri": "https://localhost:8080/"
        },
        "id": "K6IyXvpzANdH",
        "outputId": "f8847697-6f6d-4eb1-a6b9-11b413c8f848"
      },
      "execution_count": null,
      "outputs": [
        {
          "output_type": "stream",
          "name": "stdout",
          "text": [
            "Матрица ошибок:\n",
            "[[3999  700]\n",
            " [ 902 5089]]\n",
            "Точность: 0.85\n"
          ]
        }
      ]
    },
    {
      "cell_type": "markdown",
      "source": [
        "\n",
        "\n",
        ">**Вторая часть 2-го задания**\n",
        "\n",
        "\n",
        "![test_1.png](data:image/png;base64,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)\n",
        "![test_2.png](data:image/png;base64,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)"
      ],
      "metadata": {
        "id": "bq_CneUBJ6WI"
      }
    },
    {
      "cell_type": "markdown",
      "source": [
        "Здесь мы видим две матрицы ошибок для двух классификаторов\n",
        "\n",
        "Для каждого из классификаторов рассчитаем :\n",
        "\n",
        "\n",
        "1.   Точность измерений (accuracy) по формуле **(TP + TN) / (TP + FP + TN + FN)**\n",
        "2.   Точность результата измерений (precision) по формуле **TP / (TP + FP)**\n",
        "3.   Полноту (recall) по формуле **TP / (TP + FN)**\n",
        "4.   F-меру по формуле **2 * (Precision * Recall) / (Precision + Recall)**\n",
        "\n",
        "При этом значения TP, TN, FP, FN - это:\n",
        "\n",
        "\n",
        "*   TP — истино-положительное решение\n",
        "*   TN — истино-отрицательное решение\n",
        "*   FP — ложно-положительное решение\n",
        "*   FN — ложно-отрицательное решение\n",
        "\n",
        "Располагаются эти значения в матрице ошибок следующим образом:\n",
        "\n",
        "![image.png](data:image/png;base64,iVBORw0KGgoAAAANSUhEUgAAARMAAAA1CAYAAABiKw8nAAAAAXNSR0IArs4c6QAAAARnQU1BAACxjwv8YQUAAAAJcEhZcwAADsMAAA7DAcdvqGQAAATGSURBVHhe7d1/TNRlHAfwN3DA0VZqmseJXS43AkSR2HJFtlzNLbMff9j0j2h5WtgkC9PjGB2cHiHCsMxa649q0bza+oGJyyEGQ0wHOxFPAWFL+6O5gCkTESbyo7vvPfdrk4PW8xfP+8We7ft8Pjf++vI+vs/37vtEdXZ2Tt5nmADRvQz3RuMxXbSYEYXrHptAamqqdsyzhIikYJgQkRQMEyKSgmFCRFIwTIhICoYJEUnBMCEiKZQLkwttF7FkfvqUo6nhNBrrmwLzZGMmsjPWojDfjv7efvFbaLZ7ICMTuuSUsPF2kU3rma2Fgdq8zCxkvvQKPv76G0xOTmp9VSkXJstXLsPlv13aaOtp1moNLccCtdXPPqXVFpuScKXfjZaORuw/aEfnpcvI27pL69Hs5w2GU987ccvdHhif24sDvQ+2bsGdrg6c+/UIrLm5KKo6gC8OO7W+qpQLk+joaOgT9L6hj9dq+oT4QM3b9/Mez3twLp72BMz7lnfgamnHxAQ/LawKfXw8EvT6wIiNjRUdIMrzExMTg0dND2Pj+nWe8SKaXedEV01cM5mhNpcbiUZDWNgQ+bVecMO0yChmauJfxhTGxsZw9c+/cLG9A87qn/DdVz9g23tm0SUVHPy2GgUVlYHh7uoWHWBg8CZ6rlzFH57/RvJLy3Cttxe5mzaJrpoYJlPo+6cfG9a9gXffsqDu2ElUfLoXOWa1TxbVeC9pQ0foAqvzaC3WvJ6DHQ4HBoeG0PrLz9olj8qU/tbw8O1hpJmewBl3PRYlBf9F9d7NsVnKcPp8naioS9VvDd+/YiWanIfxePoyUQnaXGCFYf4ClFu4IM9vDRORdAwTIpKCYUJEUvBJaxQRn7RGkXDNhIikY5gQkRQMEyKSgmFCRFIwTIhICu1ujjgmIvrP/HdztDDhrT+aivfWHz86QFPxfnSAt4aJSCqGCRFJwTAhIikYJkQkBcOEiKRgmBCRFAwTIpJCyTCZboMlw6on0X/9hjYPtTh7NS5194gZzTZlJVVhG7KFjvQlq7TX+Ddoq635TZuHshfuQ9W+Q2KmHiXDZLoNlvRxccjbs1ebh/L2Qh8qTLPL7g93BDZj++hACVZkBjdsc3U1iVcBBuNC2K3luHF9QFR8fOeHmChI2cucSBss7dxixtnzbThy4qSokAq854B/M7Y4z3HYhm2e4ZeSlow1a59BibVMVMiLayb3oIvR4bOSEmy32zFwc1BUiXxGhkdgc+zG2eZW1B9vEFVSNkwibbA0encULz//HLKzsrCzjO8+FM57fsyZOwf2ciuKdjkwyDccjbJhEmmDJb9DxTbU/t6AulO+Dc6JQq1/9QUsz0iDw1YpKmpTNkzyN7+JSmtBYGSkpYhOkOGhBagosGCbrRi3hoYQq9OJDpFPaaUNx4+eQHPjGegUPz+4ZjIN82sbsNRkgrWySlu0JQplTEqExZYPa74d4+PjoqomhskMfFnqQHVNDa719YkKUVCOeSMSjQvxo7NGVNTEMJmBpY+YYMvbjtsjI6JCFBQVFYX9n+zB6J27oqImPmmNIuKT1igSPmmNiKRjmBCRFAwTIpKCYUJEUjBMiEgKbsJFRP9LYBOuST6gg4gk4GUOEUnBMCEiCYB/AZn0uaab2XhHAAAAAElFTkSuQmCC)"
      ],
      "metadata": {
        "id": "0YA07sJCKwXk"
      }
    },
    {
      "cell_type": "code",
      "source": [
        "TP_1 = 250\n",
        "FP_1 = 100\n",
        "FN_1 = 50\n",
        "TN_1 = 600\n",
        "\n",
        "TP_2 = 300\n",
        "FP_2 = 50\n",
        "FN_2 = 100\n",
        "TN_2 = 550\n",
        "\n",
        "acc_1 = (TP_1 + TN_1)/(TP_1 + FP_1 + TN_1 + FN_1)\n",
        "prec_1 = TP_1/(TP_1 + FP_1)\n",
        "rec_1 = TP_1/(TP_1 + FN_1)\n",
        "f_1 = 2*(prec_1 * rec_1)/(prec_1 + rec_1)\n",
        "\n",
        "print('Точность измерений 1: {0:0.2f}'. format(acc_1))\n",
        "print('Точность результата измерений 1: {0:0.2f}'. format(prec_1))\n",
        "print('Полнота 1: {0:0.2f}'. format(rec_1))\n",
        "print('F-мера 1: {0:0.2f}'. format(f_1))\n",
        "\n",
        "acc_2 = (TP_2 + TN_2)/(TP_2 + FP_2 + TN_2 + FN_2)\n",
        "prec_2 = TP_2/(TP_2 + FP_2)\n",
        "rec_2 = TP_2/(TP_2 + FN_2)\n",
        "f_2 = 2*(prec_2 * rec_2)/(prec_2 + rec_2)\n",
        "\n",
        "print('Точность измерений 2: {0:0.2f}'. format(acc_2))\n",
        "print('Точность результата измерений 2: {0:0.2f}'. format(prec_2))\n",
        "print('Полнота 2: {0:0.2f}'. format(rec_2))\n",
        "print('F-мера 2: {0:0.2f}'. format(f_2))"
      ],
      "metadata": {
        "colab": {
          "base_uri": "https://localhost:8080/"
        },
        "id": "L-9LS258Mj6A",
        "outputId": "563cb5d2-cce8-45c3-c1d8-be9cf9ccff40"
      },
      "execution_count": null,
      "outputs": [
        {
          "output_type": "stream",
          "name": "stdout",
          "text": [
            "Точность измерений 1: 0.85\n",
            "Точность результата измерений 1: 0.71\n",
            "Полнота 1: 0.83\n",
            "F-мера 1: 0.77\n",
            "Точность измерений 2: 0.85\n",
            "Точность результата измерений 2: 0.86\n",
            "Полнота 2: 0.75\n",
            "F-мера 2: 0.80\n"
          ]
        }
      ]
    },
    {
      "cell_type": "markdown",
      "source": [
        "\n",
        "\n",
        "> **Выводы**\n",
        "\n",
        "\n",
        "Исходя из полученных результатов, мы видим, что первый классификатор превосходит второй в рамках полноты, в то время как первый превосходит второй в рамках точности результата измерений, точность измерений у первого и второго классификатора равны\n",
        "\n",
        "Однако, F-мера у второго классификатора больше, пусть и не так значительно, значит, при выборе стоит предпочесть **второй классификатор**\n",
        "\n",
        "\n",
        "\n"
      ],
      "metadata": {
        "id": "6Cno8biEMKdz"
      }
    }
  ]
}